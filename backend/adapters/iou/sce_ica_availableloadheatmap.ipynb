{
 "cells": [
  {
   "cell_type": "markdown",
   "metadata": {},
   "source": [
    "# SCE Low Capacity Circuits\n",
    "I've chosen to use SCE's self-published \"heat maps\" of low, med, and high capacity. More details about SCE data access & choice of using heat map can be found here:\n",
    "https://docs.google.com/document/d/1R7JPiKbmi1jx3-r19MARBIebVr4b3fuHDIeNMVGUf4A/edit\n",
    "\n",
    "AVL_LOAD_HEAT_MAP\n",
    "Long Term, blended Circuit and Substation Available Load Capacity\n",
    "\n",
    "0 MW - 1 MW (low, red) (Table ID = 3)\n",
    "\n",
    "1 MW - 3 MW (med, yellow) (Table ID = 2)\n",
    "\n",
    "\\> 3 MW (high, green) (Table ID = 1)\n",
    "\n",
    "\n",
    "This layer shows the estimated available capacity (hosting capacity) at the substation and circuit levels. It accounts for information on the finalize statuses of each circuit and substation at the end of the Distribution System Planning cycle and consequent load growth projects which have submitted a full design package to SCE planning department. What is provided in this layer that is different from a typical engineering study is that this layer does not take into account the limitations at the circuit node level which includes limitation based on thermal, voltage, and voltage variation. The values in this layer do not account for all limitations on the distribution circuits, which may significantly reduce capacity. Customers can request additional capacity analysis through the standard interconnection process. \n",
    "\n",
    "In the Attribute Table, the Circuit Available Load Capacity values drive the color coding on the map and represent the minimum load capacity for the next five years.\n",
    "\n",
    "The Available Load Capacity column (without the year) represents the lowest capacity in the five-year period.\n",
    "\n",
    "Raw data from SCE can be found on the ArcGIS website here:\n",
    "https://drpep.sce.com/arcgis_portal/home/webmap/viewer.html?useExisting=1&layers=9b0f6f5f2ff741d5982a5bef83554ee7\n",
    "\n",
    "SCE's DRPEP tool can be accessed and browsed for more details here: "
   ]
  },
  {
   "cell_type": "code",
   "execution_count": 4,
   "metadata": {},
   "outputs": [
    {
     "name": "stdout",
     "output_type": "stream",
     "text": [
      "GeoJSON file saved as low_capacity_areas.geojson\n"
     ]
    }
   ],
   "source": [
    "import requests\n",
    "import json\n",
    "\n",
    "url = 'https://drpep.sce.com/arcgis_server/rest/services/Hosted/AVL_LOAD_HEAT_MAP/FeatureServer/0/query'\n",
    "\n",
    "params = {\n",
    "    'where': 'id=3',\n",
    "    'outFields': '*',\n",
    "    'f': 'geojson',\n",
    "    'geometryPrecision': 6  # Optional: controls the number of decimal places\n",
    "}\n",
    "\n",
    "response = requests.get(url, params=params)\n",
    "\n",
    "if response.status_code == 200:\n",
    "    data = response.json()\n",
    "\n",
    "    with open('sce_low_capacity_areas.geojson', 'w') as f:\n",
    "        json.dump(data, f)\n",
    "\n",
    "    print('GeoJSON file saved as sce_low_capacity_areas.geojson')\n",
    "else:\n",
    "    print(f'Error fetching data: HTTP {response.status_code}')\n",
    "    print(response.text)"
   ]
  },
  {
   "cell_type": "markdown",
   "metadata": {},
   "source": [
    "To visualize the output, go to: \n",
    "\n",
    "https://geojson.io/#map=2/0/20\n",
    "\n",
    "Drag and drop the rendered GeoJSON file. "
   ]
  }
 ],
 "metadata": {
  "kernelspec": {
   "display_name": "Python 3",
   "language": "python",
   "name": "python3"
  },
  "language_info": {
   "codemirror_mode": {
    "name": "ipython",
    "version": 3
   },
   "file_extension": ".py",
   "mimetype": "text/x-python",
   "name": "python",
   "nbconvert_exporter": "python",
   "pygments_lexer": "ipython3",
   "version": "3.11.7"
  }
 },
 "nbformat": 4,
 "nbformat_minor": 2
}
