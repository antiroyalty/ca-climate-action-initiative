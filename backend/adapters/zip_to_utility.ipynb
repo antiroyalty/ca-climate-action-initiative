{
 "cells": [
  {
   "cell_type": "code",
   "execution_count": 3,
   "metadata": {},
   "outputs": [
    {
     "name": "stdout",
     "output_type": "stream",
     "text": [
      "Zip to utility mapping saved to zip-to-utility.json\n"
     ]
    }
   ],
   "source": [
    "import json\n",
    "\n",
    "# Function to map zip codes to utilities\n",
    "def map_zip_to_utility(zip_climate_zones):\n",
    "    zip_to_utility = {}\n",
    "\n",
    "    for zipcode in zip_climate_zones:\n",
    "        if zipcode.startswith('9'):\n",
    "            if int(zipcode) >= 90001 and int(zipcode) <= 93599:  # LA region SCE\n",
    "                zip_to_utility[zipcode] = 'SCE'\n",
    "            elif int(zipcode) >= 91901 and int(zipcode) <= 92199:  # Southmost California SDGE\n",
    "                zip_to_utility[zipcode] = 'SDGE'\n",
    "            else:\n",
    "                zip_to_utility[zipcode] = 'PGE'  # Northern California\n",
    "        else:\n",
    "            zip_to_utility[zipcode] = 'PGE'\n",
    "\n",
    "    return zip_to_utility\n",
    "\n",
    "# Read the input JSON file\n",
    "with open('../data/raw/zipcodes/zip-to-climatezone.json', 'r') as json_file:\n",
    "    zip_climate_zones = json.load(json_file)\n",
    "\n",
    "# Map the zip codes to utilities\n",
    "zip_to_utility = map_zip_to_utility(zip_climate_zones)\n",
    "\n",
    "# Save the mapping to a new JSON file\n",
    "with open('../data/raw/zipcodes/zip-to-utility.json', 'w') as json_file:\n",
    "    json.dump(zip_to_utility, json_file, indent=4)\n",
    "\n",
    "print(\"Zip to utility mapping saved to zip-to-utility.json\")\n"
   ]
  }
 ],
 "metadata": {
  "kernelspec": {
   "display_name": "Python 3",
   "language": "python",
   "name": "python3"
  },
  "language_info": {
   "codemirror_mode": {
    "name": "ipython",
    "version": 3
   },
   "file_extension": ".py",
   "mimetype": "text/x-python",
   "name": "python",
   "nbconvert_exporter": "python",
   "pygments_lexer": "ipython3",
   "version": "3.11.7"
  }
 },
 "nbformat": 4,
 "nbformat_minor": 2
}
