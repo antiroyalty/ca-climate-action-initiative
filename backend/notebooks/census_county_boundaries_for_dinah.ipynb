{
 "cells": [
  {
   "cell_type": "code",
   "execution_count": 4,
   "metadata": {},
   "outputs": [
    {
     "name": "stdout",
     "output_type": "stream",
     "text": [
      "                                            geometry       NAME\n",
      "0  MULTIPOLYGON (((-122.31298 37.89733, -122.3127...    Alameda\n",
      "1  POLYGON ((-120.07260 38.44896, -120.07256 38.4...     Alpine\n",
      "2  POLYGON ((-121.02765 38.50007, -121.02733 38.4...     Amador\n",
      "3  POLYGON ((-122.05727 39.85265, -122.05785 39.8...      Butte\n",
      "4  POLYGON ((-120.99552 38.22545, -120.99168 38.2...  Calaveras\n",
      "GeoJSON file saved to ../data/geojson/california_county_boundaries.geojson\n"
     ]
    }
   ],
   "source": [
    "import requests\n",
    "import geopandas as gpd\n",
    "import json\n",
    "\n",
    "# ArcGIS endpoint for California county boundaries\n",
    "# Public endpoint so you don't actually need an API key to access these boundaries\n",
    "arcgis_url = \"https://sampleserver6.arcgisonline.com/arcgis/rest/services/Census/MapServer/2/query\"\n",
    "params = {\n",
    "    'where': \"STATE_NAME='California'\",\n",
    "    'outFields': 'NAME',\n",
    "    'outSR': '4326',\n",
    "    'f': 'geojson'\n",
    "}\n",
    "\n",
    "response = requests.get(arcgis_url, params=params)\n",
    "\n",
    "if response.status_code == 200:\n",
    "    counties_geojson = response.json()\n",
    "    counties_gdf = gpd.GeoDataFrame.from_features(counties_geojson['features'])\n",
    "\n",
    "    print(counties_gdf.head())\n",
    "\n",
    "    relative_path = '../data/geojson/'\n",
    "    filename = \"california_county_boundaries.geojson\"\n",
    "    counties_gdf.to_file(relative_path + filename, driver='GeoJSON')\n",
    "    \n",
    "    print(f\"GeoJSON file saved to {relative_path + filename}\")\n",
    "else:\n",
    "    print(f\"Failed to fetch data: {response.status_code} - {response.text}\")\n"
   ]
  }
 ],
 "metadata": {
  "kernelspec": {
   "display_name": "Python 3",
   "language": "python",
   "name": "python3"
  },
  "language_info": {
   "codemirror_mode": {
    "name": "ipython",
    "version": 3
   },
   "file_extension": ".py",
   "mimetype": "text/x-python",
   "name": "python",
   "nbconvert_exporter": "python",
   "pygments_lexer": "ipython3",
   "version": "3.11.7"
  }
 },
 "nbformat": 4,
 "nbformat_minor": 2
}
