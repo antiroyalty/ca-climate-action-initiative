{
 "cells": [
  {
   "cell_type": "code",
   "execution_count": 66,
   "metadata": {},
   "outputs": [
    {
     "data": {
      "text/plain": [
       "'/Users/jlfwong/code/hvac-sim-app/scripts/weather'"
      ]
     },
     "execution_count": 66,
     "metadata": {},
     "output_type": "execute_result"
    }
   ],
   "source": [
    "import numpy as np\n",
    "import pygrib\n",
    "\n",
    "import os\n",
    "os.getcwd()"
   ]
  },
  {
   "cell_type": "code",
   "execution_count": 34,
   "metadata": {},
   "outputs": [],
   "source": [
    "path = \"./data/all-canada-2023.grib\"\n",
    "\n",
    "all_canada_2023_grbs = pygrib.open(path)"
   ]
  },
  {
   "cell_type": "code",
   "execution_count": 35,
   "metadata": {},
   "outputs": [],
   "source": [
    "all_canada_2024_01_01_grbs = pygrib.open(\"./data/all-canada-2024-01-01.grib\")"
   ]
  },
  {
   "cell_type": "code",
   "execution_count": 5,
   "metadata": {},
   "outputs": [
    {
     "data": {
      "text/plain": [
       "(41.0, 58.0, -137.0, 308.0)"
      ]
     },
     "execution_count": 5,
     "metadata": {},
     "output_type": "execute_result"
    }
   ],
   "source": [
    "all_canada_2023_grbs.seek(0)\n",
    "grb = all_canada_2023_grbs.read(1)[0]\n",
    "\n",
    "grb.values.shape\n",
    "lats, lons = grb.latlons()\n",
    "\n",
    "(np.min(lats), np.max(lats), np.min(lons), np.max(lons))"
   ]
  },
  {
   "cell_type": "code",
   "execution_count": 7,
   "metadata": {},
   "outputs": [
    {
     "data": {
      "text/plain": [
       "(45.3805, -75.7636)"
      ]
     },
     "execution_count": 7,
     "metadata": {},
     "output_type": "execute_result"
    }
   ],
   "source": [
    "import json\n",
    "ca_postal_codes = json.loads(open(\"./ca-postal-codes.json\", \"r\").read())\n",
    "\n",
    "def get_lat_lon(postal_code):\n",
    "    info = ca_postal_codes[postal_code[:3]]\n",
    "    return info[\"lat\"], info[\"lng\"]\n",
    "\n",
    "get_lat_lon(\"K2A\")"
   ]
  },
  {
   "cell_type": "code",
   "execution_count": 8,
   "metadata": {},
   "outputs": [
    {
     "name": "stdout",
     "output_type": "stream",
     "text": [
      "40.783503702475876\n"
     ]
    }
   ],
   "source": [
    "import math\n",
    "\n",
    "\n",
    "def relative_humidity(drybulb_temp_kelvin, dewpoint_temp_kelvin):\n",
    "  # August-Roche-Magnus formula\n",
    "  #\n",
    "  # https://bmcnoldy.earth.miami.edu/Humidity.html\n",
    "  # https://en.wikipedia.org/wiki/Clausius%E2%80%93Clapeyron_relation#Meteorology_and_climatology\n",
    "  # 100*(EXP((17.625*TD)/(243.04+TD))/EXP((17.625*T)/(243.04+T)))\n",
    "  # (Temperatures from this formula are in celcius)\n",
    "  t = drybulb_temp_kelvin - 273.15\n",
    "  td = dewpoint_temp_kelvin - 273.15\n",
    "  return 100 * math.exp((17.625 * td) / (243.04 + td)) / math.exp((17.625 * t) / (243.04 + t))\n",
    "\n",
    "print(relative_humidity(273.15 + (90 - 32) / 1.8, 273.15 + (63 - 32) / 1.8))\n"
   ]
  },
  {
   "cell_type": "code",
   "execution_count": 60,
   "metadata": {},
   "outputs": [],
   "source": [
    "import requests\n",
    "\n",
    "def get_elevation(lat, lon):\n",
    "    url = f\"https://api.open-elevation.com/api/v1/lookup?locations={lat},{lon}\"\n",
    "    response = requests.get(url)\n",
    "    for i in range(5):\n",
    "        if response.status_code == 200:\n",
    "            break\n",
    "\n",
    "        # For some insane reason, sometimes the open elevation API gives 504s on certain\n",
    "        # URLs, but appending 0s fixes the issue. Usually one is enough, but sometimes\n",
    "        # two are needed.\n",
    "        url += \"0\"\n",
    "        response = requests.get(url)\n",
    "    try:\n",
    "        data = response.json()\n",
    "    except Exception as e:\n",
    "        print(f\"Failed to retrieve elevation. {url}\")\n",
    "        raise e\n",
    "    elevation = data[\"results\"][0][\"elevation\"]\n",
    "    return elevation\n",
    "\n",
    "# elevation = get_elevation(lat, lon)  # m"
   ]
  },
  {
   "cell_type": "code",
   "execution_count": 61,
   "metadata": {},
   "outputs": [
    {
     "data": {
      "text/plain": [
       "'America/Toronto'"
      ]
     },
     "execution_count": 61,
     "metadata": {},
     "output_type": "execute_result"
    }
   ],
   "source": [
    "def get_timezone(lat, lon):\n",
    "    response = requests.get(f\"http://timezonefinder.michelfe.it/api/0_{lon}_{lat}\")\n",
    "    try:\n",
    "        location = response.json()\n",
    "        timezone_str = location[\"tz_name\"]\n",
    "        return timezone_str\n",
    "    except Exception as e:\n",
    "        print(f\"Failed to retrieve elevation. {url}\")\n",
    "        raise e\n",
    "\n",
    "get_timezone(*get_lat_lon(\"K2A\"))"
   ]
  },
  {
   "cell_type": "code",
   "execution_count": 13,
   "metadata": {},
   "outputs": [
    {
     "data": {
      "text/plain": [
       "1651"
      ]
     },
     "execution_count": 13,
     "metadata": {},
     "output_type": "execute_result"
    }
   ],
   "source": [
    "all_postal_codes = list(json.loads(open(\"ca-postal-codes.json\").read()).keys())\n",
    "len(all_postal_codes)"
   ]
  },
  {
   "cell_type": "code",
   "execution_count": 50,
   "metadata": {},
   "outputs": [],
   "source": [
    "def get_idx_for_lat_lon(lat, lon):\n",
    "    # Find the grid point with closest lat/lon\n",
    "    abslat = np.abs(lats-lat)\n",
    "    abslon = np.abs(lons-lon)\n",
    "    c = np.sqrt(np.add(np.square(abslat), np.square(abslon)))\n",
    "    idx = np.argmin(c)\n",
    "    return idx\n"
   ]
  },
  {
   "cell_type": "code",
   "execution_count": 45,
   "metadata": {},
   "outputs": [],
   "source": [
    "from datetime import datetime\n",
    "import pysolar\n",
    "import json\n",
    "import os"
   ]
  },
  {
   "cell_type": "code",
   "execution_count": 71,
   "metadata": {},
   "outputs": [
    {
     "name": "stdout",
     "output_type": "stream",
     "text": [
      "0/1651 postal codes remaining\n",
      "Estimated time: 0.0 hours\n"
     ]
    }
   ],
   "source": [
    "# Took 2m 9.7s -- 26s/code\n",
    "# postal_codes = [\"K2A\", \"V5K\", \"H3H\", \"R3T\", \"T6G\"]\n",
    "\n",
    "# Took 7m 58.8s for [:20] -- 24s/code\n",
    "# Took 335m 21.5s for [:200] -- 100s/code (why?)\n",
    "# Took 6m  5.4s for [200:20]\n",
    "# Roughly 24s/postal\n",
    "\n",
    "wind_u_key = '10 metre U wind component'\n",
    "wind_v_key = '10 metre V wind component'\n",
    "dewpoint_temp_key = '2 metre dewpoint temperature'\n",
    "temp_key = '2 metre temperature'\n",
    "cloud_cover_key = 'Total cloud cover'\n",
    "\n",
    "# https://github.com/jeroenterheerdt/HAsmartirrigation/commit/c1cd7e96f81b41f0662c721af3d38b9a9\n",
    "wind_speed_10m_to_2m_ratio = 4.87 / math.log((67.8 * 10) - 5.42)\n",
    "\n",
    "era5_data = {}\n",
    "\n",
    "def output_json_path(postal_code):\n",
    "    return f'data/ca/2023-era5-{postal_code}.json'\n",
    "\n",
    "def already_wrote_json(postal_code):\n",
    "    return os.path.exists(output_json_path(postal_code))\n",
    "\n",
    "filtered_postal_codes = [c for c in all_postal_codes if not already_wrote_json(c)]\n",
    "\n",
    "print(f\"{len(filtered_postal_codes)}/{len(all_postal_codes)} postal codes remaining\")\n",
    "print(f\"Estimated time: {len(filtered_postal_codes) * (30 / 60 / 60)} hours\")\n",
    "\n",
    "codes_per_batch = 5\n",
    "for postal_code_idx in range(0, len(filtered_postal_codes), codes_per_batch):\n",
    "    postal_codes = filtered_postal_codes[postal_code_idx:postal_code_idx + codes_per_batch]\n",
    "    print(datetime.now().strftime(\"%H:%M:%S\"), \"-\", postal_codes)\n",
    "\n",
    "\n",
    "    print(datetime.now().strftime(\"%H:%M:%S\"), \"- starting gathering location metadata\")\n",
    "\n",
    "    try:\n",
    "        lat_lons = [get_lat_lon(code) for code in postal_codes]\n",
    "        idx = [get_idx_for_lat_lon(lat, lon) for (lat, lon) in lat_lons]\n",
    "        timezones = [get_timezone(lat, lon) for (lat, lon) in lat_lons]\n",
    "        elevations = [get_elevation(lat, lon) for (lat, lon) in lat_lons]\n",
    "    except Exception as e:\n",
    "        print(\"Hit exception. Skipping\")\n",
    "        print(e)\n",
    "        continue\n",
    "\n",
    "    # We index all of the data for multiple postal code up-front because we want to\n",
    "    # avoid doing multiple scans of the 2GB file\n",
    "    print(datetime.now().strftime(\"%H:%M:%S\"), \"- started extracting data for grib\")\n",
    "    for grbs in [all_canada_2023_grbs, all_canada_2024_01_01_grbs]:\n",
    "        grbs.seek(0)\n",
    "        for grb in grbs.read():\n",
    "            year = str(grb.dataDate)[:4]\n",
    "            month = str(grb.dataDate)[4:6]\n",
    "            day = str(grb.dataDate)[6:]\n",
    "\n",
    "            time = '{:04d}'.format(grb.dataTime)\n",
    "            hour = time[:2]\n",
    "            minute = time[2:]\n",
    "\n",
    "            dt = '{}-{}-{}T{}:{}:00+00:00'.format(year, month, day, hour, minute)\n",
    "            for i, postal_code in enumerate(postal_codes):\n",
    "                era5_data.setdefault(postal_code, {}).setdefault(dt, {})[grb.name] = grb.values.flat[idx[i]]\n",
    "\n",
    "    results_by_postal_code = {}\n",
    "\n",
    "    print(datetime.now().strftime(\"%H:%M:%S\"), \"- started constructing results\")\n",
    "    for i, postal_code in enumerate(postal_codes):\n",
    "        results_by_postal_code[postal_code] = {\n",
    "            \"postalCode\": postal_code,\n",
    "            \"timezoneName\": timezones[i],\n",
    "            \"elevationMeters\": elevations[i],\n",
    "        }\n",
    "        results = results_by_postal_code[postal_code][\"weather\"] = []\n",
    "        lat, lon = lat_lons[i]\n",
    "\n",
    "        for dt, vs in era5_data[postal_code].items():\n",
    "            dt_obj = datetime.fromisoformat(dt)\n",
    "\n",
    "            solar_altitude = pysolar.solar.get_altitude(lat, lon, dt_obj, elevations[i])\n",
    "            solar_radiation = pysolar.radiation.get_radiation_direct(dt_obj, solar_altitude) if solar_altitude > 0 else 0\n",
    "\n",
    "            temp = vs[temp_key]\n",
    "            dewpoint_temp = vs[dewpoint_temp_key]\n",
    "            rh = relative_humidity(temp, dewpoint_temp)\n",
    "\n",
    "            wind_u = vs[wind_u_key]\n",
    "            wind_v = vs[wind_v_key]\n",
    "            wind_speed_10m = math.sqrt(wind_u * wind_u + wind_v * wind_v)\n",
    "            wind_speed_2m = wind_speed_10m * wind_speed_10m_to_2m_ratio\n",
    "\n",
    "            cloud_cover = vs[cloud_cover_key]\n",
    "\n",
    "            row = {\n",
    "                \"datetime\": dt_obj.isoformat(),\n",
    "                \"outsideAirTempF\": float(\"{:.1f}\".format((temp - 273.15) * 1.8 + 32)),\n",
    "                \"relativeHumidityPercent\": float(\"{:.1f}\".format(rh)),\n",
    "                \"windSpeedMph\": float(\"{:.1f}\".format(wind_speed_2m * 2.237)),\n",
    "                \"cloudCoverPercent\": float(\"{:.1f}\".format(cloud_cover * 100.0)),\n",
    "                \"solarIrradiance\": {\n",
    "                    \"altitudeDegrees\": float(\"{:.1f}\".format(solar_altitude)),\n",
    "                    \"wattsPerSquareMeter\": float(\"{:.1f}\".format(solar_radiation))\n",
    "                }\n",
    "            }\n",
    "            results.append(row)\n",
    "\n",
    "    print(datetime.now().strftime(\"%H:%M:%S\"), \"- started writing output files\")\n",
    "    for postal_code, results in results_by_postal_code.items():\n",
    "        with open(output_json_path(postal_code), 'w') as file:\n",
    "            json.dump(results, file)"
   ]
  },
  {
   "cell_type": "code",
   "execution_count": 103,
   "metadata": {},
   "outputs": [],
   "source": [
    "# To compress files, run the following in the data/ca directory\n",
    "#\n",
    "# comm -23 <(ls *.json) <(ls *.json.br | sed 's/.br//g') | parallel --eta --bar brotli -o {}.br {}\n",
    "#\n",
    "# To upload files to s3:\n",
    "#\n",
    "# ls *.json | parallel --eta --bar aws s3 cp {}.br s3://hvac-sim-public/weather/ca/era/{} --content-encoding br"
   ]
  }
 ],
 "metadata": {
  "kernelspec": {
   "display_name": "Python 3 (ipykernel)",
   "language": "python",
   "name": "python3"
  },
  "language_info": {
   "codemirror_mode": {
    "name": "ipython",
    "version": 3
   },
   "file_extension": ".py",
   "mimetype": "text/x-python",
   "name": "python",
   "nbconvert_exporter": "python",
   "pygments_lexer": "ipython3",
   "version": "3.8.18"
  }
 },
 "nbformat": 4,
 "nbformat_minor": 2
}
