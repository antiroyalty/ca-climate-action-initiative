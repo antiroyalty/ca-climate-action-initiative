{
 "cells": [
  {
   "cell_type": "code",
   "execution_count": 2,
   "metadata": {},
   "outputs": [],
   "source": [
    "import geopandas as gpd\n",
    "\n",
    "gdb_path = \"../data/raw/ICADisplay.gdb\"\n",
    "feeder = gpd.read_file(gdb_path, driver='fileGDB', layer=\"FeederDetail\")\n",
    "# feeder_load = gpd.read_file(gdb_path, driver='fileGDB', layer=\"FeederLoadProfile\")\n",
    "line = gpd.read_file(gdb_path, driver='fileGDB', layer=\"LineDetail\")\n",
    "substations = gpd.read_file(gdb_path, driver='fileGDB', layer=\"Substations\")\n",
    "# substation_load = gpd.read_file(gdb_path, driver='fileGDB', layer=\"SubstationLoadProfile\")"
   ]
  },
  {
   "cell_type": "code",
   "execution_count": 4,
   "metadata": {},
   "outputs": [],
   "source": [
    "# Convert to GeoJSON and save to file\n",
    "feeder = feeder.to_crs(epsg=4326)\n",
    "feeder.to_file(\"../data/geojson/feeder.geojson\", driver='GeoJSON')"
   ]
  },
  {
   "cell_type": "code",
   "execution_count": 10,
   "metadata": {},
   "outputs": [],
   "source": [
    "# Feeder less than 100 kW\n",
    "import pandas as pd\n",
    "\n",
    "aggregated_capacity = line.groupby('FeederId').agg({'LoadCapacity_kW': 'sum'}).reset_index()\n",
    "feeder_capacity = pd.merge(feeder, aggregated_capacity, left_on='FeederID', right_on='FeederId', how='inner')\n",
    "\n",
    "capacity = 100 # 100 kW = low\n",
    "low_capacity_feeders = feeder_capacity[feeder_capacity['LoadCapacity_kW'] < capacity]\n",
    "\n",
    "low_capacity_lines = pd.merge(line, low_capacity_feeders[['FeederID']], left_on='FeederId', right_on='FeederID', how='inner')\n",
    "low_capacity_lines_gdf = gpd.GeoDataFrame(low_capacity_lines, geometry='geometry')\n",
    "\n",
    "low_capacity_lines_gdf.to_file(\"../data/geojson/low_capacity_feeders.geojson\", driver='GeoJSON')"
   ]
  },
  {
   "cell_type": "code",
   "execution_count": 11,
   "metadata": {},
   "outputs": [],
   "source": [
    "line = line.to_crs(epsg=4326)\n",
    "line.to_file(\"../data/geojson/line.geojson\", driver='GeoJSON')"
   ]
  },
  {
   "cell_type": "code",
   "execution_count": 12,
   "metadata": {},
   "outputs": [],
   "source": [
    "substations = substations.to_crs(epsg=4326)\n",
    "substations.to_file(\"../data/geojson/substations.geojson\", driver='GeoJSON')\n",
    "# substation_load.to_file(\"../data/geojson/substation_load.geojson\", driver='GeoJSON')"
   ]
  }
 ],
 "metadata": {
  "kernelspec": {
   "display_name": "Python 3",
   "language": "python",
   "name": "python3"
  },
  "language_info": {
   "codemirror_mode": {
    "name": "ipython",
    "version": 3
   },
   "file_extension": ".py",
   "mimetype": "text/x-python",
   "name": "python",
   "nbconvert_exporter": "python",
   "pygments_lexer": "ipython3",
   "version": "3.11.7"
  }
 },
 "nbformat": 4,
 "nbformat_minor": 2
}
